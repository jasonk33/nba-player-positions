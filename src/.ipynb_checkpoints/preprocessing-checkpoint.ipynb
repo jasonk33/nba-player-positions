{
 "cells": [
  {
   "cell_type": "code",
   "execution_count": 47,
   "metadata": {},
   "outputs": [
    {
     "name": "stdout",
     "output_type": "stream",
     "text": [
      "The autotime extension is already loaded. To reload it, use:\n",
      "  %reload_ext autotime\n",
      "time: 3.24 ms\n"
     ]
    }
   ],
   "source": [
    "import pandas as pd\n",
    "from tqdm import tqdm\n",
    "%load_ext autotime"
   ]
  },
  {
   "cell_type": "code",
   "execution_count": 56,
   "metadata": {},
   "outputs": [
    {
     "name": "stdout",
     "output_type": "stream",
     "text": [
      "time: 21.9 ms\n"
     ]
    }
   ],
   "source": [
    "def preprocess_data(data):\n",
    "    # Remove page breaks\n",
    "    data = data[data['Rk'] != 'Rk']\n",
    "    \n",
    "    # Remove players individual team stats (only keep row with total stats)\n",
    "    data = data.drop_duplicates(subset=['Player'])\n",
    "    \n",
    "    # Remove percentage columns\n",
    "    non_percentage_columns = [c for c in data.columns if '%' not in c]\n",
    "    data = data[non_percentage_columns]\n",
    "    \n",
    "    # Only keep players who are not listed under multiple positions\n",
    "    data = data[data['Pos'].isin(['PG', 'SG', 'SF', 'PF', 'C'])]\n",
    "    \n",
    "    return data"
   ]
  },
  {
   "cell_type": "code",
   "execution_count": 57,
   "metadata": {},
   "outputs": [
    {
     "name": "stderr",
     "output_type": "stream",
     "text": [
      "100%|██████████| 20/20 [00:49<00:00,  3.23s/it]"
     ]
    },
    {
     "name": "stdout",
     "output_type": "stream",
     "text": [
      "time: 50 s\n"
     ]
    },
    {
     "name": "stderr",
     "output_type": "stream",
     "text": [
      "\n"
     ]
    }
   ],
   "source": [
    "all_preprocessed_data = []\n",
    "for year in tqdm(range(2000,2020)):\n",
    "    # Read data\n",
    "    raw_data = pd.read_html(\"https://www.basketball-reference.com/leagues/NBA_{}_per_game.html\".format(year))[0]\n",
    "    \n",
    "    raw_data.to_csv(\"../data/raw_data/{}.csv\".format(year), index=False)\n",
    "    \n",
    "    preprocessed_data = preprocess_data(raw_data)\n",
    "    \n",
    "    preprocessed_data.to_csv(\"../data/preprocessed_data/{}.csv\".format(year), index=False)\n",
    "    \n",
    "    all_preprocessed_data.append(preprocessed_data)"
   ]
  },
  {
   "cell_type": "code",
   "execution_count": 59,
   "metadata": {},
   "outputs": [
    {
     "name": "stdout",
     "output_type": "stream",
     "text": [
      "time: 286 ms\n"
     ]
    }
   ],
   "source": [
    "all_preprocessed_df = pd.concat(all_preprocessed_data, axis=0)\n",
    "all_preprocessed_df.to_csv(\"../data/all_preprocessed_data.csv\", index=False)"
   ]
  }
 ],
 "metadata": {
  "kernelspec": {
   "display_name": "Python 3",
   "language": "python",
   "name": "python3"
  },
  "language_info": {
   "codemirror_mode": {
    "name": "ipython",
    "version": 3
   },
   "file_extension": ".py",
   "mimetype": "text/x-python",
   "name": "python",
   "nbconvert_exporter": "python",
   "pygments_lexer": "ipython3",
   "version": "3.6.8"
  }
 },
 "nbformat": 4,
 "nbformat_minor": 2
}
