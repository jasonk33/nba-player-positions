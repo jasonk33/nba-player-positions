{
 "cells": [
  {
   "cell_type": "code",
   "execution_count": 1,
   "metadata": {},
   "outputs": [],
   "source": [
    "import warnings\n",
    "warnings.filterwarnings('ignore')\n",
    "import pandas as pd\n",
    "import seaborn as sns\n",
    "import matplotlib.pyplot as plt\n",
    "import numpy as np\n",
    "pd.set_option('display.max_columns', 30)\n",
    "%load_ext autotime\n",
    "%matplotlib inline"
   ]
  },
  {
   "cell_type": "code",
   "execution_count": 2,
   "metadata": {},
   "outputs": [
    {
     "name": "stdout",
     "output_type": "stream",
     "text": [
      "time: 274 ms\n"
     ]
    }
   ],
   "source": [
    "yearly_preprocessed_data = {}\n",
    "for year in range(2000,2020):\n",
    "    yearly_preprocessed_data[year] = pd.read_csv(\"../data/preprocessed_data/{}.csv\".format(year))"
   ]
  },
  {
   "cell_type": "code",
   "execution_count": 3,
   "metadata": {},
   "outputs": [
    {
     "name": "stdout",
     "output_type": "stream",
     "text": [
      "time: 94.6 ms\n"
     ]
    }
   ],
   "source": [
    "all_preprocessed_data = pd.read_csv(\"../data/all_preprocessed_data.csv\")"
   ]
  },
  {
   "cell_type": "code",
   "execution_count": 4,
   "metadata": {},
   "outputs": [
    {
     "name": "stdout",
     "output_type": "stream",
     "text": [
      "time: 2.4 ms\n"
     ]
    }
   ],
   "source": [
    "position_names = ['PG', 'SG', 'SF', 'PF', 'C']"
   ]
  },
  {
   "cell_type": "code",
   "execution_count": 5,
   "metadata": {},
   "outputs": [
    {
     "data": {
      "text/html": [
       "<div>\n",
       "<style scoped>\n",
       "    .dataframe tbody tr th:only-of-type {\n",
       "        vertical-align: middle;\n",
       "    }\n",
       "\n",
       "    .dataframe tbody tr th {\n",
       "        vertical-align: top;\n",
       "    }\n",
       "\n",
       "    .dataframe thead th {\n",
       "        text-align: right;\n",
       "    }\n",
       "</style>\n",
       "<table border=\"1\" class=\"dataframe\">\n",
       "  <thead>\n",
       "    <tr style=\"text-align: right;\">\n",
       "      <th></th>\n",
       "      <th>Rk</th>\n",
       "      <th>Player</th>\n",
       "      <th>Pos</th>\n",
       "      <th>Age</th>\n",
       "      <th>Tm</th>\n",
       "      <th>G</th>\n",
       "      <th>GS</th>\n",
       "      <th>MP</th>\n",
       "      <th>FG</th>\n",
       "      <th>FGA</th>\n",
       "      <th>3P</th>\n",
       "      <th>3PA</th>\n",
       "      <th>2P</th>\n",
       "      <th>2PA</th>\n",
       "      <th>FT</th>\n",
       "      <th>FTA</th>\n",
       "      <th>ORB</th>\n",
       "      <th>DRB</th>\n",
       "      <th>TRB</th>\n",
       "      <th>AST</th>\n",
       "      <th>STL</th>\n",
       "      <th>BLK</th>\n",
       "      <th>TOV</th>\n",
       "      <th>PF</th>\n",
       "      <th>PTS</th>\n",
       "    </tr>\n",
       "  </thead>\n",
       "  <tbody>\n",
       "    <tr>\n",
       "      <td>0</td>\n",
       "      <td>1</td>\n",
       "      <td>Tariq Abdul-Wahad</td>\n",
       "      <td>SG</td>\n",
       "      <td>25</td>\n",
       "      <td>TOT</td>\n",
       "      <td>61</td>\n",
       "      <td>56</td>\n",
       "      <td>1578</td>\n",
       "      <td>274</td>\n",
       "      <td>646</td>\n",
       "      <td>3</td>\n",
       "      <td>23</td>\n",
       "      <td>271</td>\n",
       "      <td>623</td>\n",
       "      <td>146</td>\n",
       "      <td>193</td>\n",
       "      <td>101</td>\n",
       "      <td>190</td>\n",
       "      <td>291</td>\n",
       "      <td>98</td>\n",
       "      <td>59</td>\n",
       "      <td>28</td>\n",
       "      <td>106</td>\n",
       "      <td>147</td>\n",
       "      <td>697</td>\n",
       "    </tr>\n",
       "    <tr>\n",
       "      <td>1</td>\n",
       "      <td>2</td>\n",
       "      <td>Shareef Abdur-Rahim</td>\n",
       "      <td>SF</td>\n",
       "      <td>23</td>\n",
       "      <td>VAN</td>\n",
       "      <td>82</td>\n",
       "      <td>82</td>\n",
       "      <td>3223</td>\n",
       "      <td>594</td>\n",
       "      <td>1277</td>\n",
       "      <td>29</td>\n",
       "      <td>96</td>\n",
       "      <td>565</td>\n",
       "      <td>1181</td>\n",
       "      <td>446</td>\n",
       "      <td>551</td>\n",
       "      <td>218</td>\n",
       "      <td>607</td>\n",
       "      <td>825</td>\n",
       "      <td>271</td>\n",
       "      <td>89</td>\n",
       "      <td>87</td>\n",
       "      <td>249</td>\n",
       "      <td>244</td>\n",
       "      <td>1663</td>\n",
       "    </tr>\n",
       "    <tr>\n",
       "      <td>2</td>\n",
       "      <td>3</td>\n",
       "      <td>Cory Alexander</td>\n",
       "      <td>PG</td>\n",
       "      <td>26</td>\n",
       "      <td>DEN</td>\n",
       "      <td>29</td>\n",
       "      <td>2</td>\n",
       "      <td>329</td>\n",
       "      <td>28</td>\n",
       "      <td>98</td>\n",
       "      <td>9</td>\n",
       "      <td>35</td>\n",
       "      <td>19</td>\n",
       "      <td>63</td>\n",
       "      <td>17</td>\n",
       "      <td>22</td>\n",
       "      <td>8</td>\n",
       "      <td>34</td>\n",
       "      <td>42</td>\n",
       "      <td>58</td>\n",
       "      <td>24</td>\n",
       "      <td>2</td>\n",
       "      <td>28</td>\n",
       "      <td>39</td>\n",
       "      <td>82</td>\n",
       "    </tr>\n",
       "    <tr>\n",
       "      <td>3</td>\n",
       "      <td>4</td>\n",
       "      <td>Ray Allen*</td>\n",
       "      <td>SG</td>\n",
       "      <td>24</td>\n",
       "      <td>MIL</td>\n",
       "      <td>82</td>\n",
       "      <td>82</td>\n",
       "      <td>3070</td>\n",
       "      <td>642</td>\n",
       "      <td>1411</td>\n",
       "      <td>172</td>\n",
       "      <td>407</td>\n",
       "      <td>470</td>\n",
       "      <td>1004</td>\n",
       "      <td>353</td>\n",
       "      <td>398</td>\n",
       "      <td>83</td>\n",
       "      <td>276</td>\n",
       "      <td>359</td>\n",
       "      <td>308</td>\n",
       "      <td>110</td>\n",
       "      <td>19</td>\n",
       "      <td>183</td>\n",
       "      <td>187</td>\n",
       "      <td>1809</td>\n",
       "    </tr>\n",
       "    <tr>\n",
       "      <td>4</td>\n",
       "      <td>5</td>\n",
       "      <td>Rafer Alston</td>\n",
       "      <td>PG</td>\n",
       "      <td>23</td>\n",
       "      <td>MIL</td>\n",
       "      <td>27</td>\n",
       "      <td>0</td>\n",
       "      <td>361</td>\n",
       "      <td>27</td>\n",
       "      <td>95</td>\n",
       "      <td>3</td>\n",
       "      <td>14</td>\n",
       "      <td>24</td>\n",
       "      <td>81</td>\n",
       "      <td>3</td>\n",
       "      <td>4</td>\n",
       "      <td>5</td>\n",
       "      <td>18</td>\n",
       "      <td>23</td>\n",
       "      <td>70</td>\n",
       "      <td>12</td>\n",
       "      <td>0</td>\n",
       "      <td>29</td>\n",
       "      <td>29</td>\n",
       "      <td>60</td>\n",
       "    </tr>\n",
       "  </tbody>\n",
       "</table>\n",
       "</div>"
      ],
      "text/plain": [
       "   Rk               Player Pos  Age   Tm   G  GS    MP   FG   FGA   3P  3PA  \\\n",
       "0   1    Tariq Abdul-Wahad  SG   25  TOT  61  56  1578  274   646    3   23   \n",
       "1   2  Shareef Abdur-Rahim  SF   23  VAN  82  82  3223  594  1277   29   96   \n",
       "2   3       Cory Alexander  PG   26  DEN  29   2   329   28    98    9   35   \n",
       "3   4           Ray Allen*  SG   24  MIL  82  82  3070  642  1411  172  407   \n",
       "4   5         Rafer Alston  PG   23  MIL  27   0   361   27    95    3   14   \n",
       "\n",
       "    2P   2PA   FT  FTA  ORB  DRB  TRB  AST  STL  BLK  TOV   PF   PTS  \n",
       "0  271   623  146  193  101  190  291   98   59   28  106  147   697  \n",
       "1  565  1181  446  551  218  607  825  271   89   87  249  244  1663  \n",
       "2   19    63   17   22    8   34   42   58   24    2   28   39    82  \n",
       "3  470  1004  353  398   83  276  359  308  110   19  183  187  1809  \n",
       "4   24    81    3    4    5   18   23   70   12    0   29   29    60  "
      ]
     },
     "execution_count": 5,
     "metadata": {},
     "output_type": "execute_result"
    },
    {
     "name": "stdout",
     "output_type": "stream",
     "text": [
      "time: 28.9 ms\n"
     ]
    }
   ],
   "source": [
    "all_preprocessed_data.head()"
   ]
  },
  {
   "cell_type": "code",
   "execution_count": 6,
   "metadata": {},
   "outputs": [
    {
     "name": "stdout",
     "output_type": "stream",
     "text": [
      "time: 8.59 ms\n"
     ]
    }
   ],
   "source": [
    "position_counts = all_preprocessed_data['Pos'].value_counts().reset_index().rename(columns={\"index\":\"Position\", \"Pos\":\"Count\"})"
   ]
  },
  {
   "cell_type": "code",
   "execution_count": 39,
   "metadata": {},
   "outputs": [
    {
     "name": "stdout",
     "output_type": "stream",
     "text": [
      "time: 663 ms\n"
     ]
    }
   ],
   "source": [
    "yearly_averages_by_pos = pd.DataFrame()\n",
    "for year in range(2000,2020):\n",
    "    averages_by_pos = yearly_preprocessed_data[year].groupby(\"Pos\").sum().reset_index()[[\"Pos\", \"G\", \"3PA\", \"AST\", \"Age\"]]\n",
    "    averages_by_pos[\"3PA_per_game\"] = averages_by_pos['3PA']/averages_by_pos['G']\n",
    "    averages_by_pos[\"Assists_per_game\"] = averages_by_pos['AST']/averages_by_pos['G']\n",
    "    averages_by_pos[\"Year\"] = year\n",
    "    pos_counts = yearly_preprocessed_data[year]['Pos'].value_counts().reset_index().rename(columns={\"index\":\"Pos\", \"Pos\":\"Count\"})\n",
    "    averages_by_pos = averages_by_pos.merge(pos_counts, on=\"Pos\")\n",
    "    averages_by_pos[\"Age\"] = averages_by_pos[\"Age\"]/averages_by_pos[\"Count\"]\n",
    "    yearly_averages_by_pos = yearly_averages_by_pos.append(averages_by_pos)"
   ]
  },
  {
   "cell_type": "code",
   "execution_count": 40,
   "metadata": {},
   "outputs": [
    {
     "data": {
      "text/html": [
       "<div>\n",
       "<style scoped>\n",
       "    .dataframe tbody tr th:only-of-type {\n",
       "        vertical-align: middle;\n",
       "    }\n",
       "\n",
       "    .dataframe tbody tr th {\n",
       "        vertical-align: top;\n",
       "    }\n",
       "\n",
       "    .dataframe thead th {\n",
       "        text-align: right;\n",
       "    }\n",
       "</style>\n",
       "<table border=\"1\" class=\"dataframe\">\n",
       "  <thead>\n",
       "    <tr style=\"text-align: right;\">\n",
       "      <th></th>\n",
       "      <th>Pos</th>\n",
       "      <th>G</th>\n",
       "      <th>3PA</th>\n",
       "      <th>AST</th>\n",
       "      <th>Age</th>\n",
       "      <th>3PA_per_game</th>\n",
       "      <th>Assists_per_game</th>\n",
       "      <th>Year</th>\n",
       "      <th>Count</th>\n",
       "    </tr>\n",
       "  </thead>\n",
       "  <tbody>\n",
       "    <tr>\n",
       "      <td>0</td>\n",
       "      <td>C</td>\n",
       "      <td>4749</td>\n",
       "      <td>382</td>\n",
       "      <td>4257</td>\n",
       "      <td>27.965517</td>\n",
       "      <td>0.080438</td>\n",
       "      <td>0.896399</td>\n",
       "      <td>2000</td>\n",
       "      <td>87</td>\n",
       "    </tr>\n",
       "    <tr>\n",
       "      <td>1</td>\n",
       "      <td>PF</td>\n",
       "      <td>5181</td>\n",
       "      <td>3475</td>\n",
       "      <td>7299</td>\n",
       "      <td>27.968750</td>\n",
       "      <td>0.670720</td>\n",
       "      <td>1.408801</td>\n",
       "      <td>2000</td>\n",
       "      <td>96</td>\n",
       "    </tr>\n",
       "    <tr>\n",
       "      <td>2</td>\n",
       "      <td>PG</td>\n",
       "      <td>5244</td>\n",
       "      <td>10205</td>\n",
       "      <td>21984</td>\n",
       "      <td>27.712766</td>\n",
       "      <td>1.946034</td>\n",
       "      <td>4.192220</td>\n",
       "      <td>2000</td>\n",
       "      <td>94</td>\n",
       "    </tr>\n",
       "    <tr>\n",
       "      <td>3</td>\n",
       "      <td>SF</td>\n",
       "      <td>4979</td>\n",
       "      <td>8362</td>\n",
       "      <td>10076</td>\n",
       "      <td>27.186047</td>\n",
       "      <td>1.679454</td>\n",
       "      <td>2.023700</td>\n",
       "      <td>2000</td>\n",
       "      <td>86</td>\n",
       "    </tr>\n",
       "    <tr>\n",
       "      <td>4</td>\n",
       "      <td>SG</td>\n",
       "      <td>3998</td>\n",
       "      <td>10054</td>\n",
       "      <td>9319</td>\n",
       "      <td>27.479452</td>\n",
       "      <td>2.514757</td>\n",
       "      <td>2.330915</td>\n",
       "      <td>2000</td>\n",
       "      <td>73</td>\n",
       "    </tr>\n",
       "  </tbody>\n",
       "</table>\n",
       "</div>"
      ],
      "text/plain": [
       "  Pos     G    3PA    AST        Age  3PA_per_game  Assists_per_game  Year  \\\n",
       "0   C  4749    382   4257  27.965517      0.080438          0.896399  2000   \n",
       "1  PF  5181   3475   7299  27.968750      0.670720          1.408801  2000   \n",
       "2  PG  5244  10205  21984  27.712766      1.946034          4.192220  2000   \n",
       "3  SF  4979   8362  10076  27.186047      1.679454          2.023700  2000   \n",
       "4  SG  3998  10054   9319  27.479452      2.514757          2.330915  2000   \n",
       "\n",
       "   Count  \n",
       "0     87  \n",
       "1     96  \n",
       "2     94  \n",
       "3     86  \n",
       "4     73  "
      ]
     },
     "execution_count": 40,
     "metadata": {},
     "output_type": "execute_result"
    },
    {
     "name": "stdout",
     "output_type": "stream",
     "text": [
      "time: 16.4 ms\n"
     ]
    }
   ],
   "source": [
    "yearly_averages_by_pos.head()"
   ]
  },
  {
   "cell_type": "code",
   "execution_count": null,
   "metadata": {},
   "outputs": [],
   "source": []
  },
  {
   "cell_type": "code",
   "execution_count": null,
   "metadata": {},
   "outputs": [],
   "source": []
  },
  {
   "cell_type": "code",
   "execution_count": 10,
   "metadata": {},
   "outputs": [
    {
     "data": {
      "image/png": "[encoded data removed]",
      "text/plain": [
       "<Figure size 720x720 with 1 Axes>"
      ]
     },
     "metadata": {},
     "output_type": "display_data"
    },
    {
     "name": "stdout",
     "output_type": "stream",
     "text": [
      "time: 542 ms\n"
     ]
    }
   ],
   "source": [
    "sns.set(style=\"ticks\")\n",
    "f, ax = plt.subplots(figsize=(10, 10))\n",
    "plot = sns.barplot(\"Position\", \"Count\", data=position_counts, order=position_names)\n",
    "plot.set_xlabel(\"Position\" ,fontsize=15)\n",
    "plot.set_ylabel(\"Count\",fontsize=15)\n",
    "plot.set_title(\"Position Counts\", fontsize=20)\n",
    "plot.tick_params(labelsize=10)"
   ]
  },
  {
   "cell_type": "code",
   "execution_count": 13,
   "metadata": {},
   "outputs": [
    {
     "data": {
      "image/png": "[encoded data removed]",
      "text/plain": [
       "<Figure size 720x720 with 1 Axes>"
      ]
     },
     "metadata": {},
     "output_type": "display_data"
    },
    {
     "name": "stdout",
     "output_type": "stream",
     "text": [
      "time: 1.01 s\n"
     ]
    }
   ],
   "source": [
    "sns.set(style=\"ticks\")\n",
    "f, ax = plt.subplots(figsize=(10, 10))\n",
    "plot = sns.lineplot(x=\"Year\", y=\"3PA_per_game\", hue=\"Pos\", hue_order=position_names, data=yearly_threes_by_pos)\n",
    "plot.set_xlabel(\"Year\" ,fontsize=15)\n",
    "plot.set_ylabel(\"Three Point Attempts Per Game\",fontsize=15)\n",
    "plot.set_title(\"Three Point Attempts Per Game By Year\", fontsize=20)\n",
    "plot.tick_params(labelsize=10)"
   ]
  },
  {
   "cell_type": "code",
   "execution_count": null,
   "metadata": {},
   "outputs": [],
   "source": []
  },
  {
   "cell_type": "code",
   "execution_count": null,
   "metadata": {},
   "outputs": [],
   "source": []
  },
  {
   "cell_type": "code",
   "execution_count": null,
   "metadata": {},
   "outputs": [],
   "source": []
  },
  {
   "cell_type": "code",
   "execution_count": null,
   "metadata": {},
   "outputs": [],
   "source": []
  },
  {
   "cell_type": "code",
   "execution_count": null,
   "metadata": {},
   "outputs": [],
   "source": []
  },
  {
   "cell_type": "code",
   "execution_count": null,
   "metadata": {},
   "outputs": [],
   "source": []
  },
  {
   "cell_type": "code",
   "execution_count": null,
   "metadata": {},
   "outputs": [],
   "source": [
    "positions = {}\n",
    "yearly_threes_by_position = {}\n",
    "for position in position_names:\n",
    "    positions[position] = 0\n",
    "    yearly_threes_by_position[position] = {}\n",
    "    for year in range(2000,2020):\n",
    "        yearly_threes_by_position[position][year] = {\"Games\":0, \"Threes\":0}\n",
    "for year,stats in yearly_preprocessed_data.items():\n",
    "    for player in stats.iterrows():\n",
    "        position = player[1]['Pos']\n",
    "        games = player[1]['G']\n",
    "        threes = player[1]['3PA']\n",
    "        positions[position] += 1\n",
    "        yearly_threes_by_position[position][year][\"Games\"] += games\n",
    "        yearly_threes_by_position[position][year][\"Threes\"] += int(threes*games)\n",
    "    for position in position_names:\n",
    "        yearly_threes_by_position[position][year][\"Threes_Per_Game\"] = yearly_threes_by_position[position][year][\"Threes\"]/yearly_threes_by_position[position][year][\"Games\"]\n",
    "        "
   ]
  }
 ],
 "metadata": {
  "kernelspec": {
   "display_name": "Python 3",
   "language": "python",
   "name": "python3"
  },
  "language_info": {
   "codemirror_mode": {
    "name": "ipython",
    "version": 3
   },
   "file_extension": ".py",
   "mimetype": "text/x-python",
   "name": "python",
   "nbconvert_exporter": "python",
   "pygments_lexer": "ipython3",
   "version": "3.7.2"
  }
 },
 "nbformat": 4,
 "nbformat_minor": 4
}
