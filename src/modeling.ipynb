{
 "cells": [
  {
   "cell_type": "code",
   "execution_count": 30,
   "metadata": {},
   "outputs": [
    {
     "name": "stdout",
     "output_type": "stream",
     "text": [
      "The autotime extension is already loaded. To reload it, use:\n",
      "  %reload_ext autotime\n",
      "time: 55.6 ms\n"
     ]
    }
   ],
   "source": [
    "import pandas as pd\n",
    "import numpy as np\n",
    "from sklearn.model_selection import train_test_split, GridSearchCV, RepeatedStratifiedKFold\n",
    "from sklearn.preprocessing import StandardScaler, OneHotEncoder, LabelEncoder\n",
    "from sklearn.pipeline import Pipeline\n",
    "from sklearn.compose import ColumnTransformer\n",
    "from sklearn.linear_model import LogisticRegression\n",
    "from sklearn.ensemble import RandomForestClassifier\n",
    "from sklearn.neighbors import KNeighborsClassifier\n",
    "from sklearn.svm import SVC\n",
    "from sklearn.metrics import accuracy_score\n",
    "import warnings\n",
    "warnings.filterwarnings(\"ignore\")\n",
    "pd.set_option('display.max_columns', 50)\n",
    "%load_ext autotime"
   ]
  },
  {
   "cell_type": "code",
   "execution_count": 2,
   "metadata": {},
   "outputs": [
    {
     "name": "stdout",
     "output_type": "stream",
     "text": [
      "time: 4.44 ms\n"
     ]
    }
   ],
   "source": [
    "def preprocess_data(df, numeric_features, categorical_features, label, random_state=7):\n",
    "    X = df[numeric_features + categorical_features]\n",
    "    le = LabelEncoder()\n",
    "    y = le.fit_transform(df[label])\n",
    "    \n",
    "    # We create the preprocessing pipelines for both numeric and categorical data.\n",
    "    preprocessor = ColumnTransformer(\n",
    "        transformers=[\n",
    "            ('num', StandardScaler(), numeric_features),\n",
    "            ('cat', OneHotEncoder(), categorical_features)])\n",
    "    \n",
    "    X_cv, X_validation, y_cv, y_validation = train_test_split(X, y, test_size=0.2, random_state=random_state**1,stratify=y)\n",
    "    \n",
    "    return X_cv, X_validation, y_cv, y_validation, preprocessor"
   ]
  },
  {
   "cell_type": "code",
   "execution_count": 9,
   "metadata": {},
   "outputs": [
    {
     "name": "stdout",
     "output_type": "stream",
     "text": [
      "time: 4.19 ms\n"
     ]
    }
   ],
   "source": [
    "def cross_validate_model(model, param_grid, preprocessor, X_cv, y_cv, n_splits=5, n_repeats=3, random_state=7, preprocess=True, verbose=5):\n",
    "    \n",
    "    keys = list(param_grid.keys())\n",
    "    for key in keys:\n",
    "        param_grid['classifier__' + key] = param_grid.pop(key)\n",
    "    \n",
    "    if preprocess:\n",
    "        pipe = Pipeline(steps=[('preprocessor', preprocessor), ('classifier', model)])\n",
    "    else:\n",
    "        pipe = Pipeline(steps=[('classifier', model)])\n",
    "        \n",
    "    grid = GridSearchCV(pipe, param_grid, cv=RepeatedStratifiedKFold(n_splits=n_splits, n_repeats=n_repeats, random_state=random_state**2), n_jobs=-1, return_train_score=True, \n",
    "                                scoring=['accuracy', 'neg_log_loss'], refit='accuracy', verbose=verbose)\n",
    "    \n",
    "    grid.fit(X_cv, y_cv)\n",
    "    \n",
    "    return grid"
   ]
  },
  {
   "cell_type": "code",
   "execution_count": 10,
   "metadata": {},
   "outputs": [
    {
     "name": "stdout",
     "output_type": "stream",
     "text": [
      "time: 2.38 ms\n"
     ]
    }
   ],
   "source": [
    "def get_cross_validation_results(grid, X_validation, y_validation):\n",
    "    best_param_idx = grid.cv_results_['rank_test_accuracy'].argmin()\n",
    "    cv_log_loss = -grid.cv_results_['mean_test_neg_log_loss'][best_param_idx]\n",
    "    cv_accuracy = grid.best_score_\n",
    "    cv_params = grid.best_params_\n",
    "    keys = list(cv_params.keys())\n",
    "    for key in keys:\n",
    "        cv_params[key.split(\"__\")[1]] = cv_params.pop(key)\n",
    "    validation_accuracy = grid.score(X_validation, y_validation)\n",
    "    \n",
    "    print(\"Cross Validation Results:\\n\\tAccuracy: {}\\n\\tLog Loss: {}\\n\\tBest Parameters: {}\\nValidation Accuracy: {}\".format(\n",
    "        cv_accuracy, cv_log_loss, cv_params, validation_accuracy))"
   ]
  },
  {
   "cell_type": "code",
   "execution_count": 11,
   "metadata": {},
   "outputs": [
    {
     "name": "stdout",
     "output_type": "stream",
     "text": [
      "time: 60.8 ms\n"
     ]
    }
   ],
   "source": [
    "df = pd.read_csv(\"../data/all_preprocessed_data.csv\")"
   ]
  },
  {
   "cell_type": "code",
   "execution_count": 12,
   "metadata": {},
   "outputs": [
    {
     "name": "stdout",
     "output_type": "stream",
     "text": [
      "time: 1.11 ms\n"
     ]
    }
   ],
   "source": [
    "numeric_features = ['Age', 'G', 'GS', 'MP', 'FG', 'FGA', '3P', '3PA', '2P', '2PA', 'FT', 'FTA', 'ORB', 'DRB', 'TRB', 'AST', 'STL', 'BLK', 'TOV', 'PF', 'PTS']\n",
    "categorical_features = ['Tm']\n",
    "label = 'Pos'"
   ]
  },
  {
   "cell_type": "code",
   "execution_count": 13,
   "metadata": {},
   "outputs": [
    {
     "name": "stdout",
     "output_type": "stream",
     "text": [
      "time: 23.5 ms\n"
     ]
    }
   ],
   "source": [
    "X_cv, X_validation, y_cv, y_validation, preprocessor =  preprocess_data(df, numeric_features, categorical_features, label)"
   ]
  },
  {
   "cell_type": "code",
   "execution_count": 34,
   "metadata": {},
   "outputs": [
    {
     "name": "stdout",
     "output_type": "stream",
     "text": [
      "balance: 0.20885729907053036\n",
      "time: 19.1 ms\n"
     ]
    }
   ],
   "source": [
    "classes, counts = np.unique(y_validation,return_counts=True)\n",
    "print('balance:',np.max(counts/len(y_validation)))"
   ]
  },
  {
   "cell_type": "code",
   "execution_count": 18,
   "metadata": {},
   "outputs": [
    {
     "name": "stdout",
     "output_type": "stream",
     "text": [
      "Cross Validation Results:\n",
      "\tAccuracy: 0.5986329460013671\n",
      "\tLog Loss: 0.9850961930205352\n",
      "\tBest Parameters: {'C': 0.75}\n",
      "Validation Accuracy: 0.5893931109896118\n",
      "time: 8.56 s\n"
     ]
    }
   ],
   "source": [
    "model = LogisticRegression(random_state=123)\n",
    "param_grid = {'C': [.1, .25, .5, .75, 1]}\n",
    "grid = cross_validate_model(model, param_grid, preprocessor, X_cv, y_cv, n_repeats=1, verbose=0)\n",
    "get_cross_validation_results(grid, X_validation, y_validation)"
   ]
  },
  {
   "cell_type": "code",
   "execution_count": 24,
   "metadata": {},
   "outputs": [
    {
     "name": "stdout",
     "output_type": "stream",
     "text": [
      "Cross Validation Results:\n",
      "\tAccuracy: 0.6057416267942584\n",
      "\tLog Loss: 1.0578500772910315\n",
      "\tBest Parameters: {'max_depth': 20, 'min_samples_split': 9}\n",
      "Validation Accuracy: 0.5986878075451066\n",
      "time: 13.5 s\n"
     ]
    }
   ],
   "source": [
    "model = RandomForestClassifier(random_state=123)\n",
    "param_grid = {'max_depth': [5, 10, 15, 20, 25], 'min_samples_split': [3, 5, 7, 9, 11]}\n",
    "grid = cross_validate_model(model, param_grid, preprocessor, X_cv, y_cv, n_repeats=1, verbose=0)\n",
    "get_cross_validation_results(grid, X_validation, y_validation)"
   ]
  },
  {
   "cell_type": "code",
   "execution_count": 28,
   "metadata": {},
   "outputs": [
    {
     "name": "stdout",
     "output_type": "stream",
     "text": [
      "Fitting 5 folds for each of 9 candidates, totalling 45 fits\n"
     ]
    },
    {
     "name": "stderr",
     "output_type": "stream",
     "text": [
      "[Parallel(n_jobs=-1)]: Using backend LokyBackend with 4 concurrent workers.\n",
      "[Parallel(n_jobs=-1)]: Done   5 tasks      | elapsed:  1.9min\n",
      "[Parallel(n_jobs=-1)]: Done  10 tasks      | elapsed:  2.8min\n",
      "[Parallel(n_jobs=-1)]: Done  17 tasks      | elapsed:  4.7min\n",
      "[Parallel(n_jobs=-1)]: Done  24 tasks      | elapsed:  6.0min\n",
      "[Parallel(n_jobs=-1)]: Done  33 tasks      | elapsed:  8.6min\n",
      "[Parallel(n_jobs=-1)]: Done  43 out of  45 | elapsed: 10.6min remaining:   29.5s\n",
      "[Parallel(n_jobs=-1)]: Done  45 out of  45 | elapsed: 11.0min finished\n"
     ]
    },
    {
     "name": "stdout",
     "output_type": "stream",
     "text": [
      "Cross Validation Results:\n",
      "\tAccuracy: 0.6642515379357484\n",
      "\tLog Loss: 0.7886814864811635\n",
      "\tBest Parameters: {'C': 200, 'gamma': 0.01}\n",
      "Validation Accuracy: 0.6632039365773646\n",
      "time: 11min 25s\n"
     ]
    }
   ],
   "source": [
    "model = SVC(random_state=123, probability=True)\n",
    "param_grid = {'C': [150, 200, 250], 'gamma': [1e-3, 1e-2, 1e-1]}\n",
    "grid = cross_validate_model(model, param_grid, preprocessor, X_cv, y_cv, n_repeats=1, verbose=10)\n",
    "get_cross_validation_results(grid, X_validation, y_validation)"
   ]
  },
  {
   "cell_type": "code",
   "execution_count": 33,
   "metadata": {},
   "outputs": [
    {
     "name": "stdout",
     "output_type": "stream",
     "text": [
      "Cross Validation Results:\n",
      "\tAccuracy: 0.557758031442242\n",
      "\tLog Loss: 1.066151010006486\n",
      "\tBest Parameters: {'n_neighbors': 50}\n",
      "Validation Accuracy: 0.5538545653362493\n",
      "time: 59.3 s\n"
     ]
    }
   ],
   "source": [
    "model = KNeighborsClassifier()\n",
    "param_grid = {'n_neighbors': [25, 50, 75]}\n",
    "grid = cross_validate_model(model, param_grid, preprocessor, X_cv, y_cv, n_repeats=1, verbose=0)\n",
    "get_cross_validation_results(grid, X_validation, y_validation)"
   ]
  },
  {
   "cell_type": "code",
   "execution_count": null,
   "metadata": {},
   "outputs": [],
   "source": []
  }
 ],
 "metadata": {
  "kernelspec": {
   "display_name": "Python 3",
   "language": "python",
   "name": "python3"
  },
  "language_info": {
   "codemirror_mode": {
    "name": "ipython",
    "version": 3
   },
   "file_extension": ".py",
   "mimetype": "text/x-python",
   "name": "python",
   "nbconvert_exporter": "python",
   "pygments_lexer": "ipython3",
   "version": "3.7.2"
  }
 },
 "nbformat": 4,
 "nbformat_minor": 4
}
